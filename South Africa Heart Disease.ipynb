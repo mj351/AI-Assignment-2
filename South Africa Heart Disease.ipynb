{
 "cells": [
  {
   "cell_type": "code",
   "execution_count": 1,
   "id": "d3649770-eac0-4e87-8e1d-ae78a745c25d",
   "metadata": {},
   "outputs": [],
   "source": [
    "#importing libararies \n",
    "import pandas as pd #data processing/analysis\n",
    "import numpy as np # linear algebra\n",
    "import seaborn as sns #for making statistical graphics\n",
    "import matplotlib.pyplot as plt #for data visualisation\n",
    "%matplotlib inline //\n",
    "# For Encoding target label and giving range on to our target\n",
    "from sklearn.preprocessing import LabelEncoder, MinMaxScaler\n",
    "#For splitting data into training and testing \n",
    "from sklearn.model_selection import train_test_split\n",
    "#For Accuracy classification score\n",
    "from sklearn.metrics import accuracy_score"
   ]
  },
  {
   "cell_type": "code",
   "execution_count": 2,
   "id": "e7f52f76-9c57-4232-8bfb-c7b60dac246c",
   "metadata": {},
   "outputs": [],
   "source": [
    "#Data collection and processing\n",
    "#Read/load the data\n",
    "data = pd.read_csv('https://www.openml.org/data/get_csv/1592290/phpgNaXZe')"
   ]
  },
  {
   "cell_type": "code",
   "execution_count": 3,
   "id": "9da964ea-1daa-40a2-aefa-b8c623dbe6d9",
   "metadata": {},
   "outputs": [
    {
     "name": "stdout",
     "output_type": "stream",
     "text": [
      "<class 'pandas.core.frame.DataFrame'>\n",
      "RangeIndex: 462 entries, 0 to 461\n",
      "Data columns (total 10 columns):\n",
      " #   Column  Non-Null Count  Dtype  \n",
      "---  ------  --------------  -----  \n",
      " 0   V1      462 non-null    int64  \n",
      " 1   V2      462 non-null    float64\n",
      " 2   V3      462 non-null    float64\n",
      " 3   V4      462 non-null    float64\n",
      " 4   V5      462 non-null    int64  \n",
      " 5   V6      462 non-null    int64  \n",
      " 6   V7      462 non-null    float64\n",
      " 7   V8      462 non-null    float64\n",
      " 8   V9      462 non-null    int64  \n",
      " 9   Class   462 non-null    int64  \n",
      "dtypes: float64(5), int64(5)\n",
      "memory usage: 36.2 KB\n"
     ]
    }
   ],
   "source": [
    "#getting some information about data\n",
    "data.info()"
   ]
  },
  {
   "cell_type": "code",
   "execution_count": 4,
   "id": "0596a4a8-4612-4d53-b84e-b6183780b300",
   "metadata": {},
   "outputs": [],
   "source": [
    "#update the couluns with the folloing names\n",
    "column = ['sbp','tobacco','ldl','adiposity','famhist','type','obesity','alcohol','age','chd']"
   ]
  },
  {
   "cell_type": "code",
   "execution_count": 5,
   "id": "7d4cf888-a105-4cbe-ba6e-047b4ad2b50c",
   "metadata": {},
   "outputs": [],
   "source": [
    "data.columns=column"
   ]
  },
  {
   "cell_type": "code",
   "execution_count": 6,
   "id": "67e1898d-2631-47ef-aaa3-86522f8f32ad",
   "metadata": {},
   "outputs": [
    {
     "data": {
      "text/html": [
       "<div>\n",
       "<style scoped>\n",
       "    .dataframe tbody tr th:only-of-type {\n",
       "        vertical-align: middle;\n",
       "    }\n",
       "\n",
       "    .dataframe tbody tr th {\n",
       "        vertical-align: top;\n",
       "    }\n",
       "\n",
       "    .dataframe thead th {\n",
       "        text-align: right;\n",
       "    }\n",
       "</style>\n",
       "<table border=\"1\" class=\"dataframe\">\n",
       "  <thead>\n",
       "    <tr style=\"text-align: right;\">\n",
       "      <th></th>\n",
       "      <th>sbp</th>\n",
       "      <th>tobacco</th>\n",
       "      <th>ldl</th>\n",
       "      <th>adiposity</th>\n",
       "      <th>famhist</th>\n",
       "      <th>type</th>\n",
       "      <th>obesity</th>\n",
       "      <th>alcohol</th>\n",
       "      <th>age</th>\n",
       "      <th>chd</th>\n",
       "    </tr>\n",
       "  </thead>\n",
       "  <tbody>\n",
       "    <tr>\n",
       "      <th>0</th>\n",
       "      <td>160</td>\n",
       "      <td>12.00</td>\n",
       "      <td>5.73</td>\n",
       "      <td>23.11</td>\n",
       "      <td>1</td>\n",
       "      <td>49</td>\n",
       "      <td>25.30</td>\n",
       "      <td>97.20</td>\n",
       "      <td>52</td>\n",
       "      <td>2</td>\n",
       "    </tr>\n",
       "    <tr>\n",
       "      <th>1</th>\n",
       "      <td>144</td>\n",
       "      <td>0.01</td>\n",
       "      <td>4.41</td>\n",
       "      <td>28.61</td>\n",
       "      <td>2</td>\n",
       "      <td>55</td>\n",
       "      <td>28.87</td>\n",
       "      <td>2.06</td>\n",
       "      <td>63</td>\n",
       "      <td>2</td>\n",
       "    </tr>\n",
       "    <tr>\n",
       "      <th>2</th>\n",
       "      <td>118</td>\n",
       "      <td>0.08</td>\n",
       "      <td>3.48</td>\n",
       "      <td>32.28</td>\n",
       "      <td>1</td>\n",
       "      <td>52</td>\n",
       "      <td>29.14</td>\n",
       "      <td>3.81</td>\n",
       "      <td>46</td>\n",
       "      <td>1</td>\n",
       "    </tr>\n",
       "    <tr>\n",
       "      <th>3</th>\n",
       "      <td>170</td>\n",
       "      <td>7.50</td>\n",
       "      <td>6.41</td>\n",
       "      <td>38.03</td>\n",
       "      <td>1</td>\n",
       "      <td>51</td>\n",
       "      <td>31.99</td>\n",
       "      <td>24.26</td>\n",
       "      <td>58</td>\n",
       "      <td>2</td>\n",
       "    </tr>\n",
       "    <tr>\n",
       "      <th>4</th>\n",
       "      <td>134</td>\n",
       "      <td>13.60</td>\n",
       "      <td>3.50</td>\n",
       "      <td>27.78</td>\n",
       "      <td>1</td>\n",
       "      <td>60</td>\n",
       "      <td>25.99</td>\n",
       "      <td>57.34</td>\n",
       "      <td>49</td>\n",
       "      <td>2</td>\n",
       "    </tr>\n",
       "  </tbody>\n",
       "</table>\n",
       "</div>"
      ],
      "text/plain": [
       "   sbp  tobacco   ldl  adiposity  famhist  type  obesity  alcohol  age  chd\n",
       "0  160    12.00  5.73      23.11        1    49    25.30    97.20   52    2\n",
       "1  144     0.01  4.41      28.61        2    55    28.87     2.06   63    2\n",
       "2  118     0.08  3.48      32.28        1    52    29.14     3.81   46    1\n",
       "3  170     7.50  6.41      38.03        1    51    31.99    24.26   58    2\n",
       "4  134    13.60  3.50      27.78        1    60    25.99    57.34   49    2"
      ]
     },
     "execution_count": 6,
     "metadata": {},
     "output_type": "execute_result"
    }
   ],
   "source": [
    "#print first 5 rows of the tabel\n",
    "data.head()\n",
    "#also if we want to print the last 5 rows we will type the folowing code \"data.tail()\""
   ]
  },
  {
   "cell_type": "code",
   "execution_count": 7,
   "id": "3205a012-ecb7-4a48-8a85-2cc3757f2820",
   "metadata": {},
   "outputs": [
    {
     "data": {
      "text/plain": [
       "sbp          0\n",
       "tobacco      0\n",
       "ldl          0\n",
       "adiposity    0\n",
       "famhist      0\n",
       "type         0\n",
       "obesity      0\n",
       "alcohol      0\n",
       "age          0\n",
       "chd          0\n",
       "dtype: int64"
      ]
     },
     "execution_count": 7,
     "metadata": {},
     "output_type": "execute_result"
    }
   ],
   "source": [
    "#checking for any missing values on our dataset\n",
    "data.isnull().sum()"
   ]
  },
  {
   "cell_type": "code",
   "execution_count": 8,
   "id": "0d5b4cc3-37eb-416d-beaf-af1ba9ca3af9",
   "metadata": {},
   "outputs": [
    {
     "data": {
      "text/html": [
       "<div>\n",
       "<style scoped>\n",
       "    .dataframe tbody tr th:only-of-type {\n",
       "        vertical-align: middle;\n",
       "    }\n",
       "\n",
       "    .dataframe tbody tr th {\n",
       "        vertical-align: top;\n",
       "    }\n",
       "\n",
       "    .dataframe thead th {\n",
       "        text-align: right;\n",
       "    }\n",
       "</style>\n",
       "<table border=\"1\" class=\"dataframe\">\n",
       "  <thead>\n",
       "    <tr style=\"text-align: right;\">\n",
       "      <th></th>\n",
       "      <th>sbp</th>\n",
       "      <th>tobacco</th>\n",
       "      <th>ldl</th>\n",
       "      <th>adiposity</th>\n",
       "      <th>famhist</th>\n",
       "      <th>type</th>\n",
       "      <th>obesity</th>\n",
       "      <th>alcohol</th>\n",
       "      <th>age</th>\n",
       "      <th>chd</th>\n",
       "    </tr>\n",
       "  </thead>\n",
       "  <tbody>\n",
       "    <tr>\n",
       "      <th>count</th>\n",
       "      <td>462.000000</td>\n",
       "      <td>462.000000</td>\n",
       "      <td>462.000000</td>\n",
       "      <td>462.000000</td>\n",
       "      <td>462.000000</td>\n",
       "      <td>462.000000</td>\n",
       "      <td>462.000000</td>\n",
       "      <td>462.000000</td>\n",
       "      <td>462.000000</td>\n",
       "      <td>462.000000</td>\n",
       "    </tr>\n",
       "    <tr>\n",
       "      <th>mean</th>\n",
       "      <td>138.326840</td>\n",
       "      <td>3.635649</td>\n",
       "      <td>4.740325</td>\n",
       "      <td>25.406732</td>\n",
       "      <td>1.584416</td>\n",
       "      <td>53.103896</td>\n",
       "      <td>26.044113</td>\n",
       "      <td>17.044394</td>\n",
       "      <td>42.816017</td>\n",
       "      <td>1.346320</td>\n",
       "    </tr>\n",
       "    <tr>\n",
       "      <th>std</th>\n",
       "      <td>20.496317</td>\n",
       "      <td>4.593024</td>\n",
       "      <td>2.070909</td>\n",
       "      <td>7.780699</td>\n",
       "      <td>0.493357</td>\n",
       "      <td>9.817534</td>\n",
       "      <td>4.213680</td>\n",
       "      <td>24.481059</td>\n",
       "      <td>14.608956</td>\n",
       "      <td>0.476313</td>\n",
       "    </tr>\n",
       "    <tr>\n",
       "      <th>min</th>\n",
       "      <td>101.000000</td>\n",
       "      <td>0.000000</td>\n",
       "      <td>0.980000</td>\n",
       "      <td>6.740000</td>\n",
       "      <td>1.000000</td>\n",
       "      <td>13.000000</td>\n",
       "      <td>14.700000</td>\n",
       "      <td>0.000000</td>\n",
       "      <td>15.000000</td>\n",
       "      <td>1.000000</td>\n",
       "    </tr>\n",
       "    <tr>\n",
       "      <th>25%</th>\n",
       "      <td>124.000000</td>\n",
       "      <td>0.052500</td>\n",
       "      <td>3.282500</td>\n",
       "      <td>19.775000</td>\n",
       "      <td>1.000000</td>\n",
       "      <td>47.000000</td>\n",
       "      <td>22.985000</td>\n",
       "      <td>0.510000</td>\n",
       "      <td>31.000000</td>\n",
       "      <td>1.000000</td>\n",
       "    </tr>\n",
       "    <tr>\n",
       "      <th>50%</th>\n",
       "      <td>134.000000</td>\n",
       "      <td>2.000000</td>\n",
       "      <td>4.340000</td>\n",
       "      <td>26.115000</td>\n",
       "      <td>2.000000</td>\n",
       "      <td>53.000000</td>\n",
       "      <td>25.805000</td>\n",
       "      <td>7.510000</td>\n",
       "      <td>45.000000</td>\n",
       "      <td>1.000000</td>\n",
       "    </tr>\n",
       "    <tr>\n",
       "      <th>75%</th>\n",
       "      <td>148.000000</td>\n",
       "      <td>5.500000</td>\n",
       "      <td>5.790000</td>\n",
       "      <td>31.227500</td>\n",
       "      <td>2.000000</td>\n",
       "      <td>60.000000</td>\n",
       "      <td>28.497500</td>\n",
       "      <td>23.892500</td>\n",
       "      <td>55.000000</td>\n",
       "      <td>2.000000</td>\n",
       "    </tr>\n",
       "    <tr>\n",
       "      <th>max</th>\n",
       "      <td>218.000000</td>\n",
       "      <td>31.200000</td>\n",
       "      <td>15.330000</td>\n",
       "      <td>42.490000</td>\n",
       "      <td>2.000000</td>\n",
       "      <td>78.000000</td>\n",
       "      <td>46.580000</td>\n",
       "      <td>147.190000</td>\n",
       "      <td>64.000000</td>\n",
       "      <td>2.000000</td>\n",
       "    </tr>\n",
       "  </tbody>\n",
       "</table>\n",
       "</div>"
      ],
      "text/plain": [
       "              sbp     tobacco         ldl   adiposity     famhist        type  \\\n",
       "count  462.000000  462.000000  462.000000  462.000000  462.000000  462.000000   \n",
       "mean   138.326840    3.635649    4.740325   25.406732    1.584416   53.103896   \n",
       "std     20.496317    4.593024    2.070909    7.780699    0.493357    9.817534   \n",
       "min    101.000000    0.000000    0.980000    6.740000    1.000000   13.000000   \n",
       "25%    124.000000    0.052500    3.282500   19.775000    1.000000   47.000000   \n",
       "50%    134.000000    2.000000    4.340000   26.115000    2.000000   53.000000   \n",
       "75%    148.000000    5.500000    5.790000   31.227500    2.000000   60.000000   \n",
       "max    218.000000   31.200000   15.330000   42.490000    2.000000   78.000000   \n",
       "\n",
       "          obesity     alcohol         age         chd  \n",
       "count  462.000000  462.000000  462.000000  462.000000  \n",
       "mean    26.044113   17.044394   42.816017    1.346320  \n",
       "std      4.213680   24.481059   14.608956    0.476313  \n",
       "min     14.700000    0.000000   15.000000    1.000000  \n",
       "25%     22.985000    0.510000   31.000000    1.000000  \n",
       "50%     25.805000    7.510000   45.000000    1.000000  \n",
       "75%     28.497500   23.892500   55.000000    2.000000  \n",
       "max     46.580000  147.190000   64.000000    2.000000  "
      ]
     },
     "execution_count": 8,
     "metadata": {},
     "output_type": "execute_result"
    }
   ],
   "source": [
    "# Data after modification/here we will be able to study the data more\n",
    "data.describe()"
   ]
  },
  {
   "cell_type": "code",
   "execution_count": 9,
   "id": "f6fd7f75-493b-4e81-adb1-be6fc4069e75",
   "metadata": {},
   "outputs": [
    {
     "data": {
      "text/plain": [
       "1    302\n",
       "2    160\n",
       "Name: chd, dtype: int64"
      ]
     },
     "execution_count": 9,
     "metadata": {},
     "output_type": "execute_result"
    }
   ],
   "source": [
    "#checking the distribution of chd variable\n",
    "data['chd'].value_counts()"
   ]
  },
  {
   "cell_type": "code",
   "execution_count": 10,
   "id": "78035fae-8484-443d-a6a3-ff9a0808964b",
   "metadata": {},
   "outputs": [
    {
     "data": {
      "text/plain": [
       "(462, 10)"
      ]
     },
     "execution_count": 10,
     "metadata": {},
     "output_type": "execute_result"
    }
   ],
   "source": [
    "#Total number of rows and colums in the dataset\n",
    "data.shape"
   ]
  },
  {
   "cell_type": "code",
   "execution_count": 11,
   "id": "162659c4-9475-4d9e-984b-c6820ac50b37",
   "metadata": {},
   "outputs": [
    {
     "data": {
      "text/html": [
       "<div>\n",
       "<style scoped>\n",
       "    .dataframe tbody tr th:only-of-type {\n",
       "        vertical-align: middle;\n",
       "    }\n",
       "\n",
       "    .dataframe tbody tr th {\n",
       "        vertical-align: top;\n",
       "    }\n",
       "\n",
       "    .dataframe thead th {\n",
       "        text-align: right;\n",
       "    }\n",
       "</style>\n",
       "<table border=\"1\" class=\"dataframe\">\n",
       "  <thead>\n",
       "    <tr style=\"text-align: right;\">\n",
       "      <th></th>\n",
       "      <th>sbp</th>\n",
       "      <th>tobacco</th>\n",
       "      <th>ldl</th>\n",
       "      <th>adiposity</th>\n",
       "      <th>famhist</th>\n",
       "      <th>type</th>\n",
       "      <th>obesity</th>\n",
       "      <th>alcohol</th>\n",
       "      <th>age</th>\n",
       "      <th>chd</th>\n",
       "    </tr>\n",
       "  </thead>\n",
       "  <tbody>\n",
       "    <tr>\n",
       "      <th>0</th>\n",
       "      <td>160</td>\n",
       "      <td>12.00</td>\n",
       "      <td>5.73</td>\n",
       "      <td>23.11</td>\n",
       "      <td>1</td>\n",
       "      <td>49</td>\n",
       "      <td>25.30</td>\n",
       "      <td>97.20</td>\n",
       "      <td>52</td>\n",
       "      <td>2</td>\n",
       "    </tr>\n",
       "    <tr>\n",
       "      <th>1</th>\n",
       "      <td>144</td>\n",
       "      <td>0.01</td>\n",
       "      <td>4.41</td>\n",
       "      <td>28.61</td>\n",
       "      <td>2</td>\n",
       "      <td>55</td>\n",
       "      <td>28.87</td>\n",
       "      <td>2.06</td>\n",
       "      <td>63</td>\n",
       "      <td>2</td>\n",
       "    </tr>\n",
       "    <tr>\n",
       "      <th>2</th>\n",
       "      <td>118</td>\n",
       "      <td>0.08</td>\n",
       "      <td>3.48</td>\n",
       "      <td>32.28</td>\n",
       "      <td>1</td>\n",
       "      <td>52</td>\n",
       "      <td>29.14</td>\n",
       "      <td>3.81</td>\n",
       "      <td>46</td>\n",
       "      <td>1</td>\n",
       "    </tr>\n",
       "    <tr>\n",
       "      <th>3</th>\n",
       "      <td>170</td>\n",
       "      <td>7.50</td>\n",
       "      <td>6.41</td>\n",
       "      <td>38.03</td>\n",
       "      <td>1</td>\n",
       "      <td>51</td>\n",
       "      <td>31.99</td>\n",
       "      <td>24.26</td>\n",
       "      <td>58</td>\n",
       "      <td>2</td>\n",
       "    </tr>\n",
       "    <tr>\n",
       "      <th>4</th>\n",
       "      <td>134</td>\n",
       "      <td>13.60</td>\n",
       "      <td>3.50</td>\n",
       "      <td>27.78</td>\n",
       "      <td>1</td>\n",
       "      <td>60</td>\n",
       "      <td>25.99</td>\n",
       "      <td>57.34</td>\n",
       "      <td>49</td>\n",
       "      <td>2</td>\n",
       "    </tr>\n",
       "    <tr>\n",
       "      <th>...</th>\n",
       "      <td>...</td>\n",
       "      <td>...</td>\n",
       "      <td>...</td>\n",
       "      <td>...</td>\n",
       "      <td>...</td>\n",
       "      <td>...</td>\n",
       "      <td>...</td>\n",
       "      <td>...</td>\n",
       "      <td>...</td>\n",
       "      <td>...</td>\n",
       "    </tr>\n",
       "    <tr>\n",
       "      <th>457</th>\n",
       "      <td>214</td>\n",
       "      <td>0.40</td>\n",
       "      <td>5.98</td>\n",
       "      <td>31.72</td>\n",
       "      <td>2</td>\n",
       "      <td>64</td>\n",
       "      <td>28.45</td>\n",
       "      <td>0.00</td>\n",
       "      <td>58</td>\n",
       "      <td>1</td>\n",
       "    </tr>\n",
       "    <tr>\n",
       "      <th>458</th>\n",
       "      <td>182</td>\n",
       "      <td>4.20</td>\n",
       "      <td>4.41</td>\n",
       "      <td>32.10</td>\n",
       "      <td>2</td>\n",
       "      <td>52</td>\n",
       "      <td>28.61</td>\n",
       "      <td>18.72</td>\n",
       "      <td>52</td>\n",
       "      <td>2</td>\n",
       "    </tr>\n",
       "    <tr>\n",
       "      <th>459</th>\n",
       "      <td>108</td>\n",
       "      <td>3.00</td>\n",
       "      <td>1.59</td>\n",
       "      <td>15.23</td>\n",
       "      <td>2</td>\n",
       "      <td>40</td>\n",
       "      <td>20.09</td>\n",
       "      <td>26.64</td>\n",
       "      <td>55</td>\n",
       "      <td>1</td>\n",
       "    </tr>\n",
       "    <tr>\n",
       "      <th>460</th>\n",
       "      <td>118</td>\n",
       "      <td>5.40</td>\n",
       "      <td>11.61</td>\n",
       "      <td>30.79</td>\n",
       "      <td>2</td>\n",
       "      <td>64</td>\n",
       "      <td>27.35</td>\n",
       "      <td>23.97</td>\n",
       "      <td>40</td>\n",
       "      <td>1</td>\n",
       "    </tr>\n",
       "    <tr>\n",
       "      <th>461</th>\n",
       "      <td>132</td>\n",
       "      <td>0.00</td>\n",
       "      <td>4.82</td>\n",
       "      <td>33.41</td>\n",
       "      <td>1</td>\n",
       "      <td>62</td>\n",
       "      <td>14.70</td>\n",
       "      <td>0.00</td>\n",
       "      <td>46</td>\n",
       "      <td>2</td>\n",
       "    </tr>\n",
       "  </tbody>\n",
       "</table>\n",
       "<p>462 rows × 10 columns</p>\n",
       "</div>"
      ],
      "text/plain": [
       "     sbp  tobacco    ldl  adiposity  famhist  type  obesity  alcohol  age  chd\n",
       "0    160    12.00   5.73      23.11        1    49    25.30    97.20   52    2\n",
       "1    144     0.01   4.41      28.61        2    55    28.87     2.06   63    2\n",
       "2    118     0.08   3.48      32.28        1    52    29.14     3.81   46    1\n",
       "3    170     7.50   6.41      38.03        1    51    31.99    24.26   58    2\n",
       "4    134    13.60   3.50      27.78        1    60    25.99    57.34   49    2\n",
       "..   ...      ...    ...        ...      ...   ...      ...      ...  ...  ...\n",
       "457  214     0.40   5.98      31.72        2    64    28.45     0.00   58    1\n",
       "458  182     4.20   4.41      32.10        2    52    28.61    18.72   52    2\n",
       "459  108     3.00   1.59      15.23        2    40    20.09    26.64   55    1\n",
       "460  118     5.40  11.61      30.79        2    64    27.35    23.97   40    1\n",
       "461  132     0.00   4.82      33.41        1    62    14.70     0.00   46    2\n",
       "\n",
       "[462 rows x 10 columns]"
      ]
     },
     "execution_count": 11,
     "metadata": {},
     "output_type": "execute_result"
    }
   ],
   "source": [
    "data"
   ]
  },
  {
   "cell_type": "code",
   "execution_count": 12,
   "id": "9d4b7901-85cb-43ec-8930-81a2dac4caff",
   "metadata": {},
   "outputs": [],
   "source": [
    "# feature scaling, making catergorical data precise\n",
    "encoder = LabelEncoder()\n",
    "data['famhist']=encoder.fit_transform(data['famhist'])\n",
    "data['chd']=encoder.fit_transform(data['chd'])"
   ]
  },
  {
   "cell_type": "code",
   "execution_count": 13,
   "id": "4071c663-47a8-42e2-8628-ded1c3fda742",
   "metadata": {},
   "outputs": [],
   "source": [
    "scaler = MinMaxScaler(feature_range= (0,100))\n",
    "tmp_array = np.array(data['sbp'], dtype=\"float32\").reshape(len(data), -1)\n",
    "tmp_array=scaler.fit_transform(tmp_array)\n",
    "data['sbp']= tmp_array. reshape(len(data),)"
   ]
  },
  {
   "cell_type": "code",
   "execution_count": 14,
   "id": "e0dc8949-aac5-45db-ae91-6b1f0254f79d",
   "metadata": {},
   "outputs": [],
   "source": [
    "# 0 repsent healthy heart & 1 repsent defective heart\n",
    "#splitting the features (all the coulms expet chd) and target(chd coulm)\n",
    "X = data.drop(columns='chd', axis=1)\n",
    "Y = data['chd']"
   ]
  },
  {
   "cell_type": "code",
   "execution_count": 15,
   "id": "4f506094-1f49-4566-ab10-bcc9cf8c8326",
   "metadata": {},
   "outputs": [
    {
     "name": "stdout",
     "output_type": "stream",
     "text": [
      "           sbp  tobacco    ldl  adiposity  famhist  type  obesity  alcohol  \\\n",
      "0    50.427345    12.00   5.73      23.11        0    49    25.30    97.20   \n",
      "1    36.752136     0.01   4.41      28.61        1    55    28.87     2.06   \n",
      "2    14.529907     0.08   3.48      32.28        0    52    29.14     3.81   \n",
      "3    58.974358     7.50   6.41      38.03        0    51    31.99    24.26   \n",
      "4    28.205124    13.60   3.50      27.78        0    60    25.99    57.34   \n",
      "..         ...      ...    ...        ...      ...   ...      ...      ...   \n",
      "457  96.581200     0.40   5.98      31.72        1    64    28.45     0.00   \n",
      "458  69.230766     4.20   4.41      32.10        1    52    28.61    18.72   \n",
      "459   5.982903     3.00   1.59      15.23        1    40    20.09    26.64   \n",
      "460  14.529907     5.40  11.61      30.79        1    64    27.35    23.97   \n",
      "461  26.495720     0.00   4.82      33.41        0    62    14.70     0.00   \n",
      "\n",
      "     age  \n",
      "0     52  \n",
      "1     63  \n",
      "2     46  \n",
      "3     58  \n",
      "4     49  \n",
      "..   ...  \n",
      "457   58  \n",
      "458   52  \n",
      "459   55  \n",
      "460   40  \n",
      "461   46  \n",
      "\n",
      "[462 rows x 9 columns]\n"
     ]
    }
   ],
   "source": [
    "print(X)"
   ]
  },
  {
   "cell_type": "code",
   "execution_count": 16,
   "id": "3a1bcd05-a786-449f-886d-be6e43bb1133",
   "metadata": {},
   "outputs": [
    {
     "name": "stdout",
     "output_type": "stream",
     "text": [
      "0      1\n",
      "1      1\n",
      "2      0\n",
      "3      1\n",
      "4      1\n",
      "      ..\n",
      "457    0\n",
      "458    1\n",
      "459    0\n",
      "460    0\n",
      "461    1\n",
      "Name: chd, Length: 462, dtype: int64\n"
     ]
    }
   ],
   "source": [
    "print (Y)"
   ]
  },
  {
   "cell_type": "code",
   "execution_count": 17,
   "id": "299d0e60-f428-4335-b85f-29635f5d27e6",
   "metadata": {},
   "outputs": [],
   "source": [
    "#splitting our data into training and testing \n",
    "X_train, X_test, Y_train, Y_test = train_test_split(X, Y, test_size=0.2, stratify=Y, random_state=2)"
   ]
  },
  {
   "cell_type": "code",
   "execution_count": 18,
   "id": "da5ac5ac-35cf-48d9-98a1-371a81b4aa30",
   "metadata": {},
   "outputs": [
    {
     "name": "stdout",
     "output_type": "stream",
     "text": [
      "(462, 9) (369, 9) (93, 9)\n"
     ]
    }
   ],
   "source": [
    "print(X.shape, X_train.shape, X_test.shape)"
   ]
  },
  {
   "cell_type": "code",
   "execution_count": 19,
   "id": "6967fd81-fb34-407f-bc38-cfeb1dfe9ad9",
   "metadata": {},
   "outputs": [],
   "source": [
    "#model 1 Training our dataset using SVM\n",
    "#Import svm model\n",
    "from sklearn import svm\n",
    "svm_clf = svm.SVC(kernel ='linear')"
   ]
  },
  {
   "cell_type": "code",
   "execution_count": 20,
   "id": "5b2029e1-9e10-4f01-9929-e431b5c2e40a",
   "metadata": {},
   "outputs": [
    {
     "data": {
      "text/plain": [
       "SVC(kernel='linear')"
      ]
     },
     "execution_count": 20,
     "metadata": {},
     "output_type": "execute_result"
    }
   ],
   "source": [
    "svm_clf.fit(X_train,Y_train)"
   ]
  },
  {
   "cell_type": "code",
   "execution_count": 21,
   "id": "32d76f1e-7058-4016-9a52-aed4f340dc6d",
   "metadata": {},
   "outputs": [],
   "source": [
    "Y_pred_svm =svm_clf.predict(X_test)"
   ]
  },
  {
   "cell_type": "code",
   "execution_count": 22,
   "id": "d29c2a04-bb7d-4a9c-890a-7ce34ceda0da",
   "metadata": {},
   "outputs": [
    {
     "data": {
      "text/plain": [
       "array([1, 0, 1, 1, 0, 0, 0, 1, 0, 0, 0, 0, 1, 0, 0, 0, 0, 1, 0, 0, 0, 0,\n",
       "       1, 1, 0, 1, 1, 0, 0, 1, 1, 0, 1, 0, 0, 1, 0, 0, 0, 0, 0, 0, 0, 0,\n",
       "       0, 0, 1, 0, 0, 0, 0, 0, 0, 1, 0, 1, 0, 1, 0, 0, 0, 0, 0, 0, 0, 1,\n",
       "       0, 0, 1, 0, 0, 0, 0, 0, 0, 1, 0, 1, 0, 1, 0, 0, 0, 0, 0, 0, 0, 0,\n",
       "       0, 0, 0, 0, 0])"
      ]
     },
     "execution_count": 22,
     "metadata": {},
     "output_type": "execute_result"
    }
   ],
   "source": [
    "Y_pred_svm"
   ]
  },
  {
   "cell_type": "code",
   "execution_count": 23,
   "id": "cd0e2b32-a9b7-4c7a-a466-08fe1e395131",
   "metadata": {},
   "outputs": [
    {
     "data": {
      "text/plain": [
       "array([[55,  6],\n",
       "       [15, 17]])"
      ]
     },
     "execution_count": 23,
     "metadata": {},
     "output_type": "execute_result"
    }
   ],
   "source": [
    "# Making the Confusion Matrix\n",
    "from sklearn.metrics import confusion_matrix\n",
    "cm_svm = confusion_matrix(Y_test, Y_pred_svm)\n",
    "cm_svm"
   ]
  },
  {
   "cell_type": "code",
   "execution_count": 24,
   "id": "51769f24-beb3-48c6-a2d3-350544718fcf",
   "metadata": {},
   "outputs": [
    {
     "name": "stdout",
     "output_type": "stream",
     "text": [
      "Accuracy : 0.7741935483870968\n"
     ]
    }
   ],
   "source": [
    "from sklearn.metrics import accuracy_score\n",
    "svm_result = accuracy_score(Y_test,Y_pred_svm)\n",
    "print (\"Accuracy :\",svm_result)"
   ]
  },
  {
   "cell_type": "code",
   "execution_count": 25,
   "id": "2dddf5b7-fac2-4672-99a3-7b9058f785a7",
   "metadata": {},
   "outputs": [
    {
     "data": {
      "text/plain": [
       "(0.9016393442622951, 0.7638888888888888)"
      ]
     },
     "execution_count": 25,
     "metadata": {},
     "output_type": "execute_result"
    }
   ],
   "source": [
    "recall_svm = cm_svm[0][0]/(cm_svm[0][0] + cm_svm[0][1])\n",
    "precision_svm = cm_svm[0][0]/(cm_svm[0][0]+cm_svm[1][1])\n",
    "recall_svm,precision_svm"
   ]
  },
  {
   "cell_type": "code",
   "execution_count": 26,
   "id": "d9a7c159-e564-4ec9-b99b-cd006a8c3dbd",
   "metadata": {},
   "outputs": [],
   "source": [
    "#mondel 2 Training our dataset using KNN\n",
    "from sklearn.neighbors import KNeighborsClassifier\n",
    "knn_clf = KNeighborsClassifier (n_neighbors =11,n_jobs = -1,leaf_size = 60,algorithm=\"brute\")"
   ]
  },
  {
   "cell_type": "code",
   "execution_count": 27,
   "id": "316c693e-eadf-4501-b645-7f3c2dc448fb",
   "metadata": {},
   "outputs": [
    {
     "data": {
      "text/plain": [
       "KNeighborsClassifier(algorithm='brute', leaf_size=60, n_jobs=-1, n_neighbors=11)"
      ]
     },
     "execution_count": 27,
     "metadata": {},
     "output_type": "execute_result"
    }
   ],
   "source": [
    "knn_clf.fit(X_train,Y_train)"
   ]
  },
  {
   "cell_type": "code",
   "execution_count": 28,
   "id": "fbc436b9-f6ad-4186-ba6f-fa3bb1e0f13e",
   "metadata": {},
   "outputs": [
    {
     "data": {
      "text/plain": [
       "array([0, 0, 0, 1, 0, 0, 0, 0, 0, 1, 0, 0, 0, 0, 0, 0, 1, 0, 0, 0, 0, 0,\n",
       "       1, 0, 1, 1, 0, 0, 0, 1, 0, 0, 1, 0, 0, 0, 0, 0, 1, 0, 0, 0, 0, 0,\n",
       "       0, 0, 1, 0, 0, 1, 0, 0, 0, 1, 0, 0, 0, 0, 0, 1, 0, 0, 0, 0, 1, 0,\n",
       "       0, 0, 0, 0, 0, 0, 0, 0, 0, 0, 0, 1, 0, 1, 0, 0, 0, 0, 0, 0, 0, 0,\n",
       "       0, 0, 0, 1, 0])"
      ]
     },
     "execution_count": 28,
     "metadata": {},
     "output_type": "execute_result"
    }
   ],
   "source": [
    "Y_pred_knn= knn_clf.predict(X_test)\n",
    "Y_pred_knn"
   ]
  },
  {
   "cell_type": "code",
   "execution_count": 29,
   "id": "768b158f-a61d-4806-a1f7-4e3253fc82a5",
   "metadata": {},
   "outputs": [
    {
     "data": {
      "text/plain": [
       "array([[53,  8],\n",
       "       [23,  9]])"
      ]
     },
     "execution_count": 29,
     "metadata": {},
     "output_type": "execute_result"
    }
   ],
   "source": [
    "# Making the Confusion Matrix\n",
    "from sklearn.metrics import confusion_matrix\n",
    "cm_knn = confusion_matrix(Y_test, Y_pred_knn)\n",
    "cm_knn"
   ]
  },
  {
   "cell_type": "code",
   "execution_count": 30,
   "id": "692b91c1-d6f3-4b74-b6e3-68d94b491717",
   "metadata": {},
   "outputs": [
    {
     "data": {
      "text/plain": [
       "0.6666666666666666"
      ]
     },
     "execution_count": 30,
     "metadata": {},
     "output_type": "execute_result"
    }
   ],
   "source": [
    "knn_result = accuracy_score(Y_test,Y_pred_knn)\n",
    "knn_result"
   ]
  },
  {
   "cell_type": "code",
   "execution_count": 31,
   "id": "078009e1-4319-43b7-a03a-b6858210be74",
   "metadata": {},
   "outputs": [
    {
     "data": {
      "text/plain": [
       "(0.8688524590163934, 0.8548387096774194)"
      ]
     },
     "execution_count": 31,
     "metadata": {},
     "output_type": "execute_result"
    }
   ],
   "source": [
    "recall_knn = cm_knn[0][0]/(cm_knn[0][0] + cm_knn[0][1])\n",
    "precision_knn = cm_knn[0][0]/(cm_knn[0][0]+cm_knn[1][1])\n",
    "recall_knn,precision_knn"
   ]
  },
  {
   "cell_type": "code",
   "execution_count": 32,
   "id": "a3d817de-cee9-480b-bcb6-74e0f463f8cd",
   "metadata": {},
   "outputs": [],
   "source": [
    "#model 3 Training our dataset using ANN\n",
    "from sklearn.metrics import make_scorer, accuracy_score\n",
    "from sklearn.model_selection import GridSearchCV\n",
    "from sklearn.neural_network import MLPClassifier"
   ]
  },
  {
   "cell_type": "code",
   "execution_count": 33,
   "id": "6676812e-905c-4d6d-9f9f-0cfed5df8c20",
   "metadata": {},
   "outputs": [],
   "source": [
    "ann_clf = MLPClassifier()\n",
    "\n",
    "#Parameters\n",
    "parameters = {'solver': ['lbfgs'],\n",
    "             'alpha':[1e-4],\n",
    "             'hidden_layer_sizes':(9,14,14,2),   # 9 input, 14-14 neuron in 2 layers,1 output layer\n",
    "             'random_state': [1],\n",
    "             'max_iter':[2000]}"
   ]
  },
  {
   "cell_type": "code",
   "execution_count": 34,
   "id": "85553a2f-d63f-4cb0-8db1-c4be6e76bd32",
   "metadata": {},
   "outputs": [],
   "source": [
    "# Type of scoring to compare parameter combos \n",
    "acc_scorer = make_scorer(accuracy_score)\n",
    "\n",
    "# Run grid search \n",
    "grid_obj = GridSearchCV(ann_clf, parameters, scoring=acc_scorer)\n",
    "grid_obj = grid_obj.fit(X_train, Y_train)\n",
    "\n",
    "# Pick the best combination of parameters\n",
    "ann_clf = grid_obj.best_estimator_"
   ]
  },
  {
   "cell_type": "code",
   "execution_count": 35,
   "id": "069b68e5-bceb-4479-9e04-e024be5cbb69",
   "metadata": {},
   "outputs": [
    {
     "data": {
      "text/plain": [
       "MLPClassifier(hidden_layer_sizes=14, max_iter=2000, random_state=1,\n",
       "              solver='lbfgs')"
      ]
     },
     "execution_count": 35,
     "metadata": {},
     "output_type": "execute_result"
    }
   ],
   "source": [
    "# Fit the best algorithm to the data \n",
    "ann_clf.fit(X_train, Y_train)"
   ]
  },
  {
   "cell_type": "code",
   "execution_count": 36,
   "id": "997c8a9d-4b20-425b-977d-01ff756133a9",
   "metadata": {},
   "outputs": [],
   "source": [
    "Y_pred_ann = ann_clf.predict(X_test)"
   ]
  },
  {
   "cell_type": "code",
   "execution_count": 37,
   "id": "cccb6887-a811-48bd-b784-197f3836a7b7",
   "metadata": {},
   "outputs": [
    {
     "data": {
      "text/plain": [
       "array([[48, 13],\n",
       "       [19, 13]])"
      ]
     },
     "execution_count": 37,
     "metadata": {},
     "output_type": "execute_result"
    }
   ],
   "source": [
    "# Making the Confusion Matrix\n",
    "from sklearn.metrics import confusion_matrix\n",
    "cm_ann = confusion_matrix(Y_test, Y_pred_ann)\n",
    "cm_ann"
   ]
  },
  {
   "cell_type": "code",
   "execution_count": 38,
   "id": "07d0372c-17d1-4621-a20e-7cc2eeab9705",
   "metadata": {},
   "outputs": [
    {
     "data": {
      "text/plain": [
       "0.6559139784946236"
      ]
     },
     "execution_count": 38,
     "metadata": {},
     "output_type": "execute_result"
    }
   ],
   "source": [
    "ann_result = accuracy_score(Y_test,Y_pred_ann)\n",
    "ann_result"
   ]
  },
  {
   "cell_type": "code",
   "execution_count": 39,
   "id": "6a96646b-29e2-4cfa-8b53-ced484392584",
   "metadata": {},
   "outputs": [
    {
     "data": {
      "text/plain": [
       "(0.7868852459016393, 0.7868852459016393)"
      ]
     },
     "execution_count": 39,
     "metadata": {},
     "output_type": "execute_result"
    }
   ],
   "source": [
    "recall_ann = cm_ann[0][0]/(cm_ann[0][0] + cm_ann[0][1])\n",
    "precision_ann = cm_ann[0][0]/(cm_ann[0][0]+cm_ann[1][1])\n",
    "recall_ann,precision_ann"
   ]
  },
  {
   "cell_type": "code",
   "execution_count": 40,
   "id": "59347ffc-b269-4a78-989a-67ce26bf667e",
   "metadata": {},
   "outputs": [],
   "source": [
    "#COMPARISION OF THE THREE APPROACHES\n",
    "results ={'Accuracy': [svm_result*100,knn_result*100,ann_result*100],\n",
    "          'Recall': [recall_svm*100,recall_knn*100,recall_ann*100],\n",
    "          'Precision': [precision_svm*100,precision_knn*100,precision_ann*100]}\n",
    "index = ['SVM','KNN','ANN']"
   ]
  },
  {
   "cell_type": "code",
   "execution_count": 41,
   "id": "4998cfd3-0e41-402c-b30e-cf371475874c",
   "metadata": {},
   "outputs": [],
   "source": [
    "results =pd.DataFrame(results,index=index)"
   ]
  },
  {
   "cell_type": "code",
   "execution_count": 42,
   "id": "54ec5c11-b072-473c-bdad-4bcf78d14f28",
   "metadata": {},
   "outputs": [
    {
     "data": {
      "image/png": "[encoded data removed]",
      "text/plain": [
       "<Figure size 648x648 with 1 Axes>"
      ]
     },
     "metadata": {
      "needs_background": "light"
     },
     "output_type": "display_data"
    }
   ],
   "source": [
    "\n",
    "fig =results.plot(kind='bar',title='Comaprison of models',figsize =(9,9)).get_figure()\n",
    "fig.savefig('Final Result.png')"
   ]
  },
  {
   "cell_type": "code",
   "execution_count": 43,
   "id": "aae4e4e1-f22c-496d-880a-4149bc799983",
   "metadata": {},
   "outputs": [],
   "source": [
    "#Model Logistic Regression\n",
    "from sklearn.linear_model import LinearRegression"
   ]
  },
  {
   "cell_type": "code",
   "execution_count": 44,
   "id": "de405830-d6fb-4793-84c6-84e4c714459b",
   "metadata": {},
   "outputs": [],
   "source": [
    "model = LinearRegression()"
   ]
  },
  {
   "cell_type": "code",
   "execution_count": 45,
   "id": "e085072b-b4bd-414f-9cbc-f36a0e22fcaa",
   "metadata": {},
   "outputs": [
    {
     "data": {
      "text/plain": [
       "LinearRegression()"
      ]
     },
     "execution_count": 45,
     "metadata": {},
     "output_type": "execute_result"
    }
   ],
   "source": [
    "# training the LogisticRegression model with Training data\n",
    "model.fit(X_train, Y_train)"
   ]
  },
  {
   "cell_type": "code",
   "execution_count": 51,
   "id": "8a3af365-8367-41fc-b91d-146230f72d85",
   "metadata": {},
   "outputs": [
    {
     "name": "stdout",
     "output_type": "stream",
     "text": [
      "[0.27508929]\n",
      "The Person has Heart Disesase\n"
     ]
    },
    {
     "name": "stderr",
     "output_type": "stream",
     "text": [
      "/opt/conda/lib/python3.9/site-packages/sklearn/base.py:445: UserWarning: X does not have valid feature names, but LinearRegression was fitted with feature names\n",
      "  warnings.warn(\n"
     ]
    }
   ],
   "source": [
    "#Building a predictive System\n",
    "\n",
    "input_data = (14.529907,0.08,3.48,32.28,0,52,29.14,3.81,46)\n",
    "\n",
    "#change the input data to a numpy array\n",
    "input_data_as_numpy_array= np.asarray(input_data)\n",
    "\n",
    "#reshape the numpy array as we are predicting for only one instance\n",
    "input_data_reshaped = input_data_as_numpy_array.reshape(1,-1)\n",
    "\n",
    "prediction = model.predict(input_data_reshaped)\n",
    "print(prediction)\n",
    "\n",
    "if (prediction[0]== 0):\n",
    "    print('The Person does not have a Heart Disease')\n",
    "else:\n",
    "    print('The Person has Heart Disesase')"
   ]
  },
  {
   "cell_type": "code",
   "execution_count": 47,
   "id": "c959c337-51b1-44f6-b0df-e5b461b3edc5",
   "metadata": {},
   "outputs": [
    {
     "data": {
      "text/html": [
       "<div>\n",
       "<style scoped>\n",
       "    .dataframe tbody tr th:only-of-type {\n",
       "        vertical-align: middle;\n",
       "    }\n",
       "\n",
       "    .dataframe tbody tr th {\n",
       "        vertical-align: top;\n",
       "    }\n",
       "\n",
       "    .dataframe thead th {\n",
       "        text-align: right;\n",
       "    }\n",
       "</style>\n",
       "<table border=\"1\" class=\"dataframe\">\n",
       "  <thead>\n",
       "    <tr style=\"text-align: right;\">\n",
       "      <th></th>\n",
       "      <th>sbp</th>\n",
       "      <th>tobacco</th>\n",
       "      <th>ldl</th>\n",
       "      <th>adiposity</th>\n",
       "      <th>famhist</th>\n",
       "      <th>type</th>\n",
       "      <th>obesity</th>\n",
       "      <th>alcohol</th>\n",
       "      <th>age</th>\n",
       "      <th>chd</th>\n",
       "    </tr>\n",
       "  </thead>\n",
       "  <tbody>\n",
       "    <tr>\n",
       "      <th>0</th>\n",
       "      <td>50.427345</td>\n",
       "      <td>12.00</td>\n",
       "      <td>5.73</td>\n",
       "      <td>23.11</td>\n",
       "      <td>0</td>\n",
       "      <td>49</td>\n",
       "      <td>25.30</td>\n",
       "      <td>97.20</td>\n",
       "      <td>52</td>\n",
       "      <td>1</td>\n",
       "    </tr>\n",
       "    <tr>\n",
       "      <th>1</th>\n",
       "      <td>36.752136</td>\n",
       "      <td>0.01</td>\n",
       "      <td>4.41</td>\n",
       "      <td>28.61</td>\n",
       "      <td>1</td>\n",
       "      <td>55</td>\n",
       "      <td>28.87</td>\n",
       "      <td>2.06</td>\n",
       "      <td>63</td>\n",
       "      <td>1</td>\n",
       "    </tr>\n",
       "    <tr>\n",
       "      <th>2</th>\n",
       "      <td>14.529907</td>\n",
       "      <td>0.08</td>\n",
       "      <td>3.48</td>\n",
       "      <td>32.28</td>\n",
       "      <td>0</td>\n",
       "      <td>52</td>\n",
       "      <td>29.14</td>\n",
       "      <td>3.81</td>\n",
       "      <td>46</td>\n",
       "      <td>0</td>\n",
       "    </tr>\n",
       "    <tr>\n",
       "      <th>3</th>\n",
       "      <td>58.974358</td>\n",
       "      <td>7.50</td>\n",
       "      <td>6.41</td>\n",
       "      <td>38.03</td>\n",
       "      <td>0</td>\n",
       "      <td>51</td>\n",
       "      <td>31.99</td>\n",
       "      <td>24.26</td>\n",
       "      <td>58</td>\n",
       "      <td>1</td>\n",
       "    </tr>\n",
       "    <tr>\n",
       "      <th>4</th>\n",
       "      <td>28.205124</td>\n",
       "      <td>13.60</td>\n",
       "      <td>3.50</td>\n",
       "      <td>27.78</td>\n",
       "      <td>0</td>\n",
       "      <td>60</td>\n",
       "      <td>25.99</td>\n",
       "      <td>57.34</td>\n",
       "      <td>49</td>\n",
       "      <td>1</td>\n",
       "    </tr>\n",
       "  </tbody>\n",
       "</table>\n",
       "</div>"
      ],
      "text/plain": [
       "         sbp  tobacco   ldl  adiposity  famhist  type  obesity  alcohol  age  \\\n",
       "0  50.427345    12.00  5.73      23.11        0    49    25.30    97.20   52   \n",
       "1  36.752136     0.01  4.41      28.61        1    55    28.87     2.06   63   \n",
       "2  14.529907     0.08  3.48      32.28        0    52    29.14     3.81   46   \n",
       "3  58.974358     7.50  6.41      38.03        0    51    31.99    24.26   58   \n",
       "4  28.205124    13.60  3.50      27.78        0    60    25.99    57.34   49   \n",
       "\n",
       "   chd  \n",
       "0    1  \n",
       "1    1  \n",
       "2    0  \n",
       "3    1  \n",
       "4    1  "
      ]
     },
     "execution_count": 47,
     "metadata": {},
     "output_type": "execute_result"
    }
   ],
   "source": [
    "#print first 5 rows of the tabel\n",
    "data.head()"
   ]
  }
 ],
 "metadata": {
  "kernelspec": {
   "display_name": "Python 3 (ipykernel)",
   "language": "python",
   "name": "python3"
  },
  "language_info": {
   "codemirror_mode": {
    "name": "ipython",
    "version": 3
   },
   "file_extension": ".py",
   "mimetype": "text/x-python",
   "name": "python",
   "nbconvert_exporter": "python",
   "pygments_lexer": "ipython3",
   "version": "3.9.7"
  }
 },
 "nbformat": 4,
 "nbformat_minor": 5
}
